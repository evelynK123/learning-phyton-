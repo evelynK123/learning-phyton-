{
 "cells": [
  {
   "cell_type": "code",
   "execution_count": null,
   "id": "77163877",
   "metadata": {},
   "outputs": [],
   "source": [
    "# komentar\n",
    "\"\"\"\n",
    "multiple line komentar\n",
    "\"\"\"\n",
    "'''\n",
    "multiple line komentak \n",
    "'''\n",
    "#Variable = wadah/penampung\n",
    "tinggi =  170 #membuat variable dengan nama tinggai\n",
    "print(tinggi)\n",
    "#tinggi x Tinggi\n",
    "\n",
    "nama_siswa = \"Evelyn\" #membuat nama variable\n",
    "'''\n",
    "snack case naming system = tinggiSiswa\n",
    "camel case naming system = TinggiSiswa\n",
    "pascal case naming system = tinggi_siswa\n",
    "'''\n"
   ]
  },
  {
   "cell_type": "code",
   "execution_count": null,
   "id": "ec9f4a03",
   "metadata": {},
   "outputs": [
    {
     "name": "stdout",
     "output_type": "stream",
     "text": [
      "Evelyn\n",
      "<class 'str'>\n"
     ]
    }
   ],
   "source": [
    "#data types\n",
    "# tipe data teks bisa pakai \"\" atau '' tapi better \"\"\n",
    "\n",
    "nama_siswa = \"Evelyn\" #ini srtingnya (tipe data string)\n",
    "print(nama_siswa)\n",
    "\n",
    "\n",
    "#tipe data numeric\n",
    "usia_siswa = 20 #tipe data int/bilangan bulat (gk perlu tanda kutip)\n",
    "print(type(usia_siswa))\n"
   ]
  },
  {
   "cell_type": "code",
   "execution_count": null,
   "id": "37e513ec",
   "metadata": {},
   "outputs": [],
   "source": [
    "#float desimal\n",
    "tinggi_siswa  = 170.5 # tipe data desimal/pecahan\n",
    "print(type(tinggi_siswa))\n"
   ]
  },
  {
   "cell_type": "code",
   "execution_count": null,
   "id": "edfec405",
   "metadata": {},
   "outputs": [],
   "source": [
    "angka1 = 20 #(gk boleh pake \"\" nanti bukan di baca angka) \n",
    "angka2 = 30 \n",
    "\n",
    "tambah = angka1 + angka2\n",
    "print(tambah)\n"
   ]
  },
  {
   "cell_type": "code",
   "execution_count": null,
   "id": "587cee57",
   "metadata": {},
   "outputs": [],
   "source": [
    "#boolean (true and false)\n",
    "suka_python = False\n",
    "printe(suka_python)\n",
    "print(type(suka_python))"
   ]
  },
  {
   "cell_type": "code",
   "execution_count": null,
   "id": "52e93ccc",
   "metadata": {},
   "outputs": [],
   "source": [
    "# sequence data types\n",
    "\n",
    "#list / daftar [] untuk membual list bisa pakai \"\" dan '' better \"\"\n",
    "\n",
    "list_siswa = [\"evelyn\", \"ario\"]\n",
    "list_nilai = [76, 89. 90. 90.5]\n",
    "print(type(list_siswa))\n",
    "\n",
    "print(list_siswa[0]) # sequence dimulai urutannya dari 0\n"
   ]
  },
  {
   "cell_type": "code",
   "execution_count": null,
   "id": "a242e9d0",
   "metadata": {},
   "outputs": [],
   "source": [
    "#tuple, mirip list tapi pakai bracket biasa\n",
    "daftar_hari = (\"sening\", \"selasa\", \"rabu\")\n",
    "print(type(daftar_hari))"
   ]
  },
  {
   "cell_type": "code",
   "execution_count": null,
   "id": "2f878e40",
   "metadata": {},
   "outputs": [],
   "source": [
    "# tipe data range/rentang \n",
    "# angka = range(start, stop, step)\n",
    "angka = range(1, 10, 2) # jadi nanti ditambah 2 si stepnya\n",
    "print(type(angka))\n"
   ]
  },
  {
   "cell_type": "code",
   "execution_count": null,
   "id": "1a3bd44c",
   "metadata": {},
   "outputs": [
    {
     "name": "stdout",
     "output_type": "stream",
     "text": [
      "<class 'dict'>\n"
     ]
    }
   ],
   "source": [
    "# data table/data analyst\n",
    "# mapping (dictionary) buat nyari contoh history = h key nya history valuenya\n",
    "kontak_telepon = {\n",
    "    \"evelyn\":886,\n",
    "    \"ario\":889\n",
    "}\n",
    "print(type(kontak_telepon))"
   ]
  },
  {
   "cell_type": "code",
   "execution_count": null,
   "id": "94c790d5",
   "metadata": {},
   "outputs": [],
   "source": [
    "#tipe data set pake {} tapi nggak ada valuenya \n",
    "#mirip list tapi nggk bisa duplikasi \n",
    "himpunan_siswa = {\"evelyn\", \"ario\"}"
   ]
  },
  {
   "cell_type": "code",
   "execution_count": null,
   "id": "80f881ee",
   "metadata": {},
   "outputs": [
    {
     "name": "stdout",
     "output_type": "stream",
     "text": [
      "b\n",
      "Evelyn\n",
      "belajar programing\n",
      "Evelyn belajar programing2\n"
     ]
    }
   ],
   "source": [
    "#String \n",
    "teks = \"Evelyn belajar programing\"\n",
    "\n",
    "#akses/indexing di string \n",
    "print(teks[7])\n",
    "\n",
    "#string slicing (start:stop)\n",
    "#print{teks[0:5]} stop di 5\n",
    "print(teks[0:6])\n",
    "\n",
    "print(teks[7:]) # : artinya sampai ending\n",
    "\n",
    "print(teks *2)\n",
    "print(teks + \"2\")\n"
   ]
  },
  {
   "cell_type": "code",
   "execution_count": null,
   "id": "72db2e03",
   "metadata": {},
   "outputs": [
    {
     "name": "stdout",
     "output_type": "stream",
     "text": [
      "Nama saya adalahevelyn usia saya 20 dan tinggi saya 175\n"
     ]
    }
   ],
   "source": [
    "nama = \"evelyn\"\n",
    "usia = 20 \n",
    "tinggi = 175\n",
    "print(f\"Nama saya adalah {nama} usia saya {usia} dan tinggi saya {tinggi}\") #{} placeholder untuk menampung variable"
   ]
  },
  {
   "cell_type": "code",
   "execution_count": null,
   "id": "9afc0782",
   "metadata": {},
   "outputs": [
    {
     "name": "stdout",
     "output_type": "stream",
     "text": [
      "Nama klien dict_keys(['ario', 'evelyn']) dan lahir di <built-in method values of dict object at 0x00000245E3601080>\n"
     ]
    }
   ],
   "source": [
    "daftar_klien = {\n",
    "    \"ario\":\"03 agustus 2002\",\n",
    "    \"evelyn\":\"04 mei 2024\"\n",
    "}\n",
    "\n",
    "\n",
    "print(f\"Nama klien {daftar_klien.keys()} dan lahir di {daftar_klien.values}\")\n",
    "\n",
    "print(f\"Nama klien {daftar_klien.keys[\"evelyn\"]} dan lahir di {daftar_klien.values[]}\")\n",
    "\n",
    "print(daftar_klien[\"ario\"]) # indexing "
   ]
  },
  {
   "cell_type": "code",
   "execution_count": null,
   "id": "17d4a255",
   "metadata": {},
   "outputs": [],
   "source": []
  },
  {
   "cell_type": "code",
   "execution_count": null,
   "id": "8b40f9d2",
   "metadata": {},
   "outputs": [],
   "source": [
    "#control flow\n",
    "# operator aritmetila\n",
    "\n",
    "angka1 = 10\n",
    "angka2 = 5\n",
    "print (\"hasil tambah: \", angka1 + angka2)\n",
    "print(\"hasil sisa bagi\", angka1 % angka2) # modulus\n",
    "print(\"bagi\", angka2 / angka1) # bagi bisa keluar desimal \n"
   ]
  },
  {
   "cell_type": "code",
   "execution_count": null,
   "id": "1d9edf2b",
   "metadata": {},
   "outputs": [
    {
     "name": "stdout",
     "output_type": "stream",
     "text": [
      "True\n",
      "False\n",
      "False\n"
     ]
    }
   ],
   "source": [
    "# operator comparison hanya true and false\n",
    "a = 10\n",
    "b = 5\n",
    "\n",
    "print(a>b)\n",
    "print(a<b)\n",
    "print(a<=b)\n",
    "print(a>=b)\n",
    "print(a==b)\n",
    "\n"
   ]
  },
  {
   "cell_type": "code",
   "execution_count": null,
   "id": "028033ad",
   "metadata": {},
   "outputs": [],
   "source": [
    "#operator logical (and, or) \n",
    "\n",
    "a = 10 \n",
    "b = 5\n",
    "\n",
    "print(a>b and a==b)\n",
    "print(a>b and a>=b)\n",
    "print(a>b or)"
   ]
  },
  {
   "cell_type": "code",
   "execution_count": null,
   "id": "20c6dbf5",
   "metadata": {},
   "outputs": [
    {
     "name": "stdout",
     "output_type": "stream",
     "text": [
      "kamu kurang gacorr\n"
     ]
    }
   ],
   "source": [
    "# control flow if \n",
    "nilai_siswa = 90 \n",
    "\n",
    "#kondisi kalau do flowchart decision (layang2) LOGICAL OPERATOR\n",
    "if nilai_siswa >= 90:\n",
    "    print(\"kamu dapet A\")\n",
    "elif nilai_siswa <90 and nilai_siswa >=80:\n",
    "    print(\"kamu dapet b\")\n",
    "elif nilai_siswa <80 and nilai_siswa >=70:\n",
    "    print(\"kamu dapet b\")\n",
    "else:\n",
    "    print(\"kamu kurang gacorr\")"
   ]
  },
  {
   "cell_type": "code",
   "execution_count": null,
   "id": "6a6d64de",
   "metadata": {},
   "outputs": [
    {
     "name": "stdout",
     "output_type": "stream",
     "text": [
      "Nama produk 1: Kopi Pagi \n",
      "\n",
      "Harga produk 1: 18000.5 \n",
      "\n",
      "Nama produk 2: Roti Coklat \n",
      "\n",
      "Harga produk 2: 10000 \n",
      "\n",
      "Status ketersedian roti: True\n"
     ]
    }
   ],
   "source": [
    "# tugas 1\n",
    "produk1 = \"Kopi Pagi\"\n",
    "produk1_harga = 18_000.5\n",
    "produk2 = \"Roti Coklat\"\n",
    "produk2_harga = 10_000\n",
    "\n",
    "status = True\n",
    "\n",
    "print(\"Nama produk 1:\", produk1, \"\\n\")\n",
    "print(\"Harga produk 1:\", produk1_harga, \"\\n\")\n",
    "print(\"Nama produk 2:\", produk2, \"\\n\")\n",
    "print(\"Harga produk 2:\", produk2_harga, \"\\n\")\n",
    "print(\"Status ketersedian roti:\", status, \"\\n\")\n",
    "\n",
    "\n",
    "# Tugas 2\n",
    "\n",
    "jumlah_kopi_str = input(\"Masukan jumlah pesanan kopi: \")\n",
    "print(\" \")\n",
    "jumlah_roti_str = input(\"Masukan jumlah pesenan roti: \")\n",
    "print(\" \")\n",
    "\n",
    "print(\"Tipe data awal jumlah kopi: \", type(jumlah_kopi_str), \"\\n\")\n",
    "print (\"tipe data awal jumlah roti: \", type(jumlah_roti_str), \"\\n\")\n",
    "\n",
    "jumlah_kopi_int = int(jumlah_kopi_str)\n",
    "jumlah_roti_int = int(jumlah_roti_str)\n",
    "\n",
    "print(\"Tipe data setelah konversi: \", type(jumlah_roti_int), \"\\n\")\n",
    "\n",
    "\n",
    "# Tugas 3: Operasi pada angka\n",
    "total_kopi = produk1_harga * jumlah_kopi_int\n",
    "total_roti = produk2_harga * jumlah_roti_int\n",
    "\n",
    "print(\"Total harga kopi: \", total_kopi, \"\\n\")\n",
    "print(\"Total harga roti: \", total_roti, \"\\n\")\n",
    "\n",
    "total_belanja = total_kopi + total_roti\n",
    "\n",
    "print(\"Total belanja keseluruhan: \", total_belanja, \"\\n\")\n",
    "\n",
    "uang_bayar = 50000\n",
    "\n",
    "uang_kembalian = uang_bayar - total_belanja\n",
    "\n",
    "print(\"Kembalian: \", uang_kembalian, \"\\n\")\n",
    "\n",
    "# Tugas 4: Oprasi pada string\n",
    "nama_pelanggan = input(\"Nama Pelanggan: \")\n",
    "print(\" \")\n",
    "\n",
    "print(\"*\" * 25 + \"\\n\")\n",
    "print(f\"Terima kasih, {nama_pelanggan} sudah berbelanja di Coffee shop Bahagia!\", \"\\n\")\n",
    "print(\"*\" * 25 + \"\\n\")\n",
    "print(f\"Total harga {produk1} adalah {total_kopi}\")\n"
   ]
  }
 ],
 "metadata": {
  "kernelspec": {
   "display_name": "Python 3",
   "language": "python",
   "name": "python3"
  },
  "language_info": {
   "codemirror_mode": {
    "name": "ipython",
    "version": 3
   },
   "file_extension": ".py",
   "mimetype": "text/x-python",
   "name": "python",
   "nbconvert_exporter": "python",
   "pygments_lexer": "ipython3",
   "version": "3.13.6"
  }
 },
 "nbformat": 4,
 "nbformat_minor": 5
}
