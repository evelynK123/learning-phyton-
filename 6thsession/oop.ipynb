{
 "cells": [
  {
   "cell_type": "code",
   "execution_count": null,
   "id": "190ad34f",
   "metadata": {},
   "outputs": [],
   "source": [
    "### object oriented programing \n",
    "- class -> blueprint untuk membuat object\n",
    "- analogi -> kalau mau buet rumah, kita perlu design rumah dulu, design itu disebut kelas\n",
    "- object -> benda nyata yang dibuar dari kelas\n",
    "- analogi -> object = rumag sudah jadi\n",
    "- atribut ciri ciri\n",
    "- kurung kurawal = buat manggil "
   ]
  },
  {
   "cell_type": "code",
   "execution_count": null,
   "id": "efe830ce",
   "metadata": {},
   "outputs": [
    {
     "name": "stdout",
     "output_type": "stream",
     "text": [
      "Halo, nama saya evelyn dari jurusan Art\n"
     ]
    }
   ],
   "source": [
    "'''\n",
    "konsep modularity\n",
    "\n",
    "strukture class dasar di python.\n",
    "class NamaClass:\n",
    "    def _init_(self, atribut1, atribut2):\n",
    "        self.atribut1 = atribut1\n",
    "        self.atribut2 = atribut2\n",
    "        \n",
    "    def method_sapa(self):\n",
    "    \n",
    "'''\n",
    "\n",
    "class Siswa:\n",
    "    def __init__(self, nama, jurusan): #data yang dimiliki object\n",
    "        self.nama = nama# atribuat nama\n",
    "        self.jurusan = jurusan #atribut jurusan\n",
    "        \n",
    "    def perkenalan(self):\n",
    "        print(f\"Halo, nama saya {self.nama} dari jurusan {self.jurusan}\")\n",
    "        \n",
    "        \n",
    "#_init_ (konstruktor)\n",
    "# -> fungsi khusus yang otomatis dipanggil saat object kita buat.\n",
    "# -> digunakan mengisi atribut awal\n",
    "\n",
    "#self -> kata kunci untuk representasi object itu sendiri\n",
    "\n",
    "\n",
    "#membuat object siswa\n",
    "siswa1 = Siswa(\"evelyn\", \"Art\")\n",
    "siswa1.perkenalan()\n",
    "\n",
    "siswa2 = Siswa(\"Ario\",\"IT\")\n",
    "siswa2.perkenalan()\n",
    "# nama aja \n",
    "print(siswa2.nama)"
   ]
  },
  {
   "cell_type": "code",
   "execution_count": 10,
   "id": "79a292fb",
   "metadata": {},
   "outputs": [
    {
     "name": "stdout",
     "output_type": "stream",
     "text": [
      "Merah\n",
      "Mobil Toyota berwarna Merah\n",
      "Mobil Mercedes berwarna Merah\n",
      "Mobil Mclaren berwarna hijau\n",
      "Mobil Mclaren sedang berjalan\n"
     ]
    }
   ],
   "source": [
    "class Mobil:\n",
    "    def __init__(self, merk, warna):\n",
    "        self.merk = merk\n",
    "        self.warna = warna\n",
    "        \n",
    "    def info(self):\n",
    "        print(f\"Mobil {self.merk} berwarna {self.warna}\")\n",
    "        \n",
    "    def jalan(self):\n",
    "        print(f\"Mobil {self.merk} sedang berjalan\")\n",
    "        \n",
    "Mobil1 = Mobil(\"Toyota\", \"Merah\")\n",
    "Mobil2 = Mobil (\"Mclaren\", \"Biru\")\n",
    "\n",
    "print(Mobil1.warna)\n",
    "Mobil1.info()\n",
    "\n",
    "Mobil1.merk = \"Mercedes\"\n",
    "Mobil1.info()\n",
    "\n",
    "Mobil2.warna = \"hijau\"\n",
    "Mobil2.info()\n",
    "Mobil2.jalan()\n"
   ]
  },
  {
   "cell_type": "markdown",
   "id": "c8f59c21",
   "metadata": {},
   "source": [
    "OOP -> membuat kode kita lebih terstruktur, rapi dan bisa digunakan ulang.\n",
    "biasa di pake buat program untuk aplikasi besar\n",
    "buat app atau web \n",
    "prinsip OOP (pilar OOP)\n",
    "    - encapsulation (melinduling data dari luar)\n",
    "    - abstraction\n",
    "    - polymorphysm \n",
    "    - inheritance"
   ]
  },
  {
   "cell_type": "code",
   "execution_count": 11,
   "id": "7526989f",
   "metadata": {},
   "outputs": [
    {
     "name": "stdout",
     "output_type": "stream",
     "text": [
      "Evelyn\n",
      "10000\n"
     ]
    }
   ],
   "source": [
    "#encapsulation\n",
    "#menyembunyikan data agar tidak bisa di akses langsung dari luar skls.\n",
    "#biasanya digunakan untuk lindungi data agar tidak sembarangan diubah\n",
    "# public, private, protected (hanya di java script, di bahasa C)\n",
    "\n",
    "class AkunBank:\n",
    "    def __init__(self, nama, saldo):\n",
    "        self.nama = nama #ini adalah public atribute\n",
    "        self.__saldo = saldo # private attribute denga __didepan\n",
    "        #self._saldo = saldo # ini protected attribute\n",
    "        \n",
    "    \n",
    "    def cek_saldo(self):\n",
    "        return self.__saldo\n",
    "        \n",
    "        \n",
    "# kita buat object\n",
    "akun1 = AkunBank(\"Evelyn\", 10000)\n",
    "print(akun1.nama)\n",
    "print(akun1.cek_saldo())\n",
    "        \n",
    "#encapsulation itu nyimpan data dalam class agar aman\n",
    "#atribut pritvate {__saldo} tidak bisa di akses langsung dari luar\n",
    "#semua interaksi harus lewat method resmi -> teller atau ATM\n",
    "# ATM biasa pake Java atu C++ karna mudah integrate with IOT"
   ]
  },
  {
   "cell_type": "code",
   "execution_count": null,
   "id": "03819d98",
   "metadata": {},
   "outputs": [
    {
     "name": "stdout",
     "output_type": "stream",
     "text": [
      "Guk-guk\n",
      "Meong-Meong\n",
      "mimi sedang makan\n"
     ]
    }
   ],
   "source": [
    "#inheritance \n",
    "# -> kemampuan sebuah class untuk mewarisi sebuah atribut dan method dari kelas lain (induk/parent)\n",
    "# -> dengan inharitance kita ga perlu lagi nulis ulang kode -> cukup gunain kembali kode dari kelas induk \n",
    "\n",
    "#parent class\n",
    "class Hewan:\n",
    "    def __init__(self, nama):\n",
    "        self.nama = nama\n",
    "        \n",
    "    def makan(self):\n",
    "        print(f\"{self.nama} sedang makan\")\n",
    "        \n",
    "# child class\n",
    "class Kucing(Hewan):#mewarisi dari hewan\n",
    "    def suara(self):\n",
    "        print(\"Meong-Meong\")\n",
    "\n",
    "class Anjing(Hewan):#mewarisi dari Hewan\n",
    "    def suara(self):\n",
    "        print(\"Guk-guk\")\n",
    "        \n",
    "        \n",
    "#objek\n",
    "mimi = Kucing(\"mimi\")\n",
    "doggo = Anjing(\"Doggo\")\n",
    "doggo.suara()\n",
    "mimi.suara()\n",
    "mimi.makan()\n",
    "\n",
    "# kepake saat buat system atau aplikasi sederhana"
   ]
  },
  {
   "cell_type": "code",
   "execution_count": 17,
   "id": "b167c552",
   "metadata": {},
   "outputs": [
    {
     "name": "stdout",
     "output_type": "stream",
     "text": [
      "Evelyn sedang belajar phython programing \n",
      "\n"
     ]
    }
   ],
   "source": [
    "#file processing \n",
    "#buka file manual \n",
    "'''\n",
    "mode\n",
    "'r' = read membaca\n",
    "'w' = write\n",
    "'a' = \n",
    "'''\n",
    "\n",
    "#apabila satu folder ./ kalau diatas folder/[arant folder ../\n",
    "file = open(\"./data.txt\", \"r\")\n",
    "content = file.read()\n",
    "print(content)\n",
    "file.close()"
   ]
  },
  {
   "cell_type": "code",
   "execution_count": 18,
   "id": "a3f99cf9",
   "metadata": {},
   "outputs": [
    {
     "name": "stdout",
     "output_type": "stream",
     "text": [
      "Baris 1\n",
      "Baris 2\n",
      "Baris 3\n",
      "\n"
     ]
    }
   ],
   "source": [
    "#with statement\n",
    "#buat file dulu \n",
    "with open(\"test.txt\", \"w\") as f:\n",
    "    f.write(\"Baris 1\\nBaris 2\\nBaris 3\\n\")\n",
    "    \n",
    "#baca isi file \n",
    "with open(\"./test.txt\", \"r\") as f: #f itu foder\n",
    "    isi = f.read()\n",
    "    print(isi)"
   ]
  },
  {
   "cell_type": "code",
   "execution_count": null,
   "id": "45c8a14d",
   "metadata": {},
   "outputs": [
    {
     "ename": "ModuleNotFoundError",
     "evalue": "No module named 'pandas'",
     "output_type": "error",
     "traceback": [
      "\u001b[31m---------------------------------------------------------------------------\u001b[39m",
      "\u001b[31mModuleNotFoundError\u001b[39m                       Traceback (most recent call last)",
      "\u001b[36mCell\u001b[39m\u001b[36m \u001b[39m\u001b[32mIn[19]\u001b[39m\u001b[32m, line 2\u001b[39m\n\u001b[32m      1\u001b[39m \u001b[38;5;66;03m# as \u001b[39;00m\n\u001b[32m----> \u001b[39m\u001b[32m2\u001b[39m \u001b[38;5;28;01mimport\u001b[39;00m\u001b[38;5;250m \u001b[39m\u001b[34;01mpandas\u001b[39;00m\u001b[38;5;250m \u001b[39m\u001b[38;5;28;01mas\u001b[39;00m\u001b[38;5;250m \u001b[39m\u001b[34;01mpd\u001b[39;00m\n\u001b[32m      3\u001b[39m \u001b[38;5;28;01mimport\u001b[39;00m\u001b[38;5;250m \u001b[39m\u001b[34;01mnumpy\u001b[39;00m\u001b[38;5;250m \u001b[39m\u001b[38;5;28;01mas\u001b[39;00m\u001b[38;5;250m \u001b[39m\u001b[34;01mnp\u001b[39;00m \u001b[38;5;66;03m#(numeracal phyton) buat matrix data 2d, 3d baris kolom buat perkalinan\u001b[39;00m\n",
      "\u001b[31mModuleNotFoundError\u001b[39m: No module named 'pandas'"
     ]
    }
   ],
   "source": [
    "# as -> alias\n",
    "#numpy dan pandas itu library\n",
    "import pandas as pd\n",
    "import numpy as np #(numeracal phyton) buat matrix data 2d, 3d baris kolom buat perkalinan\n",
    "\n",
    "#pip install numpy di terminal vscode"
   ]
  },
  {
   "cell_type": "code",
   "execution_count": null,
   "id": "56751ca9",
   "metadata": {},
   "outputs": [],
   "source": []
  }
 ],
 "metadata": {
  "kernelspec": {
   "display_name": "Python 3",
   "language": "python",
   "name": "python3"
  },
  "language_info": {
   "codemirror_mode": {
    "name": "ipython",
    "version": 3
   },
   "file_extension": ".py",
   "mimetype": "text/x-python",
   "name": "python",
   "nbconvert_exporter": "python",
   "pygments_lexer": "ipython3",
   "version": "3.13.6"
  }
 },
 "nbformat": 4,
 "nbformat_minor": 5
}
