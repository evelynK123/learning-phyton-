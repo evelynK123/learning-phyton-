{
 "cells": [
  {
   "cell_type": "code",
   "execution_count": 4,
   "id": "77484be5",
   "metadata": {},
   "outputs": [
    {
     "name": "stdout",
     "output_type": "stream",
     "text": [
      " Nilai belum di urutkan:  [90, 88, 98, 56, 89]\n",
      "Nilai diurutkan dengan buble sort:  [90, 88, 98, 56, 89]\n"
     ]
    }
   ],
   "source": [
    "'''\n",
    "alghoritma pseudocode\n",
    "buble sort:\n",
    "'''\n",
    "\n",
    "def bubble_sort(arr):\n",
    "    #mulai algoritma \n",
    "    panjang_array = len(arr) #ambil pjg array/list\n",
    "    \n",
    "    #looping list kita\n",
    "    for i in range(0, panjang_array - 1):\n",
    "        \n",
    "        #looping dalam list\n",
    "        for j in range (0, panjang_array - i - 1):\n",
    "            #cek nilai apakah index kiri > kanan\n",
    "            if arr[j] > arr[j + 1]:\n",
    "                #swap tuker datanya\n",
    "                arr[j], arr[j + 1], arr[j]\n",
    "    return arr\n",
    "# cara penggunaan \n",
    "list_nilai = [90, 88, 98, 56, 89]\n",
    "print(\" Nilai belum di urutkan: \", list_nilai)\n",
    "\n",
    "nilau_urut = bubble_sort(list_nilai)\n",
    "print(\"Nilai diurutkan dengan buble sort: \", bubble_sort(list_nilai))\n",
    "\n",
    "#    list_angka = {80}[80,]"
   ]
  },
  {
   "cell_type": "code",
   "execution_count": null,
   "id": "cc754cc7",
   "metadata": {},
   "outputs": [
    {
     "name": "stdout",
     "output_type": "stream",
     "text": [
      "1\n",
      "1\n",
      "1\n",
      "1\n",
      "1\n",
      "1\n",
      "1\n",
      "1\n"
     ]
    }
   ],
   "source": [
    "'''\n",
    "selection  sort\n",
    "mencari nilai paling kecil/besar dari list dari scaning semuanya \n",
    "Algoritma pseudocode\n",
    "selection sort:\n",
    "[5, 3, 8, 4, 2]\n",
    "mulai\n",
    "n = len(arr)\n",
    "untuk i dari 0 ke n-1:\n",
    "        # menggap elemen pertama sebagai yang terkceil \n",
    "        min index = i\n",
    "        for j dari i + 1 ke n:\n",
    "                    jika arr[j] < arr[min index]:\n",
    "                      min index = j\n",
    "                    \n",
    "                    tukar arr[i] dan arr[min index]\n",
    "selesai\n",
    "'''\n",
    "i  = 1\n",
    "for j in range(i + 1, 10):\n",
    "    print(i)\n",
    "    "
   ]
  },
  {
   "cell_type": "code",
   "execution_count": null,
   "id": "bc37310e",
   "metadata": {},
   "outputs": [
    {
     "name": "stdout",
     "output_type": "stream",
     "text": [
      "nilai belum terurut:  [90, 88, 98, 56, 89]\n",
      "nilai diurutkan dengan selection sort:  [98, 89, 90, 88, 56]\n"
     ]
    }
   ],
   "source": [
    "'''\n",
    "selection sort function\n",
    "'''\n",
    "\n",
    "def selection_sort(arr):\n",
    "    #mulai algoritma selection sort\n",
    "    n =  len(arr) #ambil pjg arr/list\n",
    "    \n",
    "    #melakukan looping\n",
    "    \n",
    "    for i in range(0, n - 1):\n",
    "        #anggap elemen pertama sebagain nilai yang terkecil\n",
    "        min_idx = i \n",
    "        \n",
    "        for j in range(i + 1, n ):\n",
    "            # check apabila nilain list j lebih < [lis min idx]\n",
    "            if arr[j] < arr[min_idx]:# bisa ganti < atau > tergantung descending ascending \n",
    "                min_idx = j \n",
    "                arr[i], arr[min_idx] = arr[min_idx], arr[i]\n",
    "                \n",
    "    return arr\n",
    "\n",
    "# cara penggunaan \n",
    "list_nilai = [90, 88, 98, 56, 89]\n",
    "nilai_terurut = selection_sort(list_nilai)\n",
    "print(\"nilai belum terurut: \", list_nilai)\n",
    "print(\"nilai diurutkan dengan selection sort: \", selection_sort(list_nilai))\n",
    "    "
   ]
  },
  {
   "cell_type": "code",
   "execution_count": 1,
   "id": "0228e9d2",
   "metadata": {},
   "outputs": [],
   "source": [
    "'''\n",
    "Toko online mini \n",
    "- produk (harga, nama)\n",
    "- sorting untuk urutkan harga - termahal \n",
    "- urutkan nama produk (A - Z)\n",
    "control flow function\n",
    "\n",
    "=> fitur applikasi\n",
    "- menampilkan menum \n",
    "- memilih menu\n",
    "\n",
    "'''\n",
    "\n",
    "# data produk -> list -> int, string, dictionary(have key and value), boolean\n",
    "produk = [\n",
    "    {\"nama\": \"Mouse\", \"harga\": 75000},\n",
    "    {\"nama\": \"Keyboard\", \"harga\": 150000},\n",
    "    {\"nama\": \"Flashdisk\", \"harga\": 50000},\n",
    "    {\"nama\": \"Monitor\", \"harga\": 975000},\n",
    "    {\"nama\": \"Charger\", \"harga\": 125000},\n",
    "]\n",
    "\n",
    "#tampilkan data produk\n",
    "def tampilkan_produk(produk):\n",
    "    print(\"\\nDaftar produk: \") \n",
    "    for p in produk:\n",
    "        print(f\"- {p['nama']}: Rp{p['harga']}\") # untuk cetak nama dan harga\n",
    "\n",
    "# function sort harga\n",
    "def selection_sort_byharga(produk): \n",
    "    n =  len(produk) #ambil pjg arr/list\n",
    "    \n",
    "    #melakukan looping\n",
    "    \n",
    "    for i in range(0, n - 1):\n",
    "        #anggap elemen pertama sebagain nilai yang terkecil\n",
    "        min_idx = i \n",
    "        \n",
    "        for j in range(i + 1, n ):\n",
    "            # check apabila nilain list j lebih < [lis min idx]\n",
    "            if produk[j]['harga'] < produk[min_idx]['harga']:# bisa ganti < atau > tergantung descending ascending \n",
    "                min_idx = j \n",
    "                produk[i], produk[min_idx] = produk[min_idx], produk[i]\n",
    "    return produk\n",
    "\n",
    "\n",
    "def main():\n",
    "    #skema app\n",
    "    print(\"---Selamat datang di toko online mini---\")\n",
    "    # tampilkan menu dlm looping \n",
    "    while True:\n",
    "        print(\"\\n1. urutkan berdasarkan harga\")\n",
    "        print(\"2. urutkan berdasarkan nama\")\n",
    "        print(\"3. tampilkan data produk\")\n",
    "        print(\"4. keluar/exit\")\n",
    "        \n",
    "        pilihan = input(\"pilih menu (1/2/3/4): \")\n",
    "       # break # berhentiin looping \n",
    "        # kondisi \n",
    "        if pilihan == \"1\":\n",
    "            # urutkan harga produk \n",
    "            hasil = selection_sort_byharga(produk)\n",
    "            tampilkan_produk(hasil)\n",
    "        elif pilihan == \"2\":\n",
    "            # urutkan data produk \n",
    "            hasil = selection_sort_byharga(produk)\n",
    "            tampilkan_produk(hasil)\n",
    "        elif pilihan == \"3\":\n",
    "            #tampilkan data produk \n",
    "            tampilkan_produk(produk)\n",
    "        elif pilihan == \"4\":\n",
    "            # tampilkan pesan dampai jumpa \n",
    "            print(\"Terima kasih\")\n",
    "            break \n",
    "        else:\n",
    "            print(\"pilihan tidak valid, coba lagi!\")\n",
    "    \n",
    "    "
   ]
  },
  {
   "cell_type": "code",
   "execution_count": null,
   "id": "962abd7b",
   "metadata": {},
   "outputs": [
    {
     "name": "stdout",
     "output_type": "stream",
     "text": [
      "---Selamat datang di toko online mini---\n",
      "\n",
      "1. urutkan berdasarkan harga\n",
      "2. urutkan berdasarkan nama\n",
      "3. tampilkan data produk\n",
      "4. keluar/exit\n"
     ]
    }
   ],
   "source": [
    "main()"
   ]
  },
  {
   "cell_type": "code",
   "execution_count": null,
   "id": "9367aaf5",
   "metadata": {},
   "outputs": [],
   "source": [
    "teks = \"Kita Belajar PHYTHON\"\n",
    "\n",
    "print(teks.upper())"
   ]
  },
  {
   "cell_type": "code",
   "execution_count": null,
   "id": "f3e4a009",
   "metadata": {},
   "outputs": [],
   "source": [
    "pilihan = \"YA/tidak\"\n",
    "\n",
    "print(teks.lower())\n",
    "\n",
    "if pilihan == 'ya':\n",
    "        print(\"hallo\")\n",
    "elif pilihan == 'tidak':\n",
    "        print(\"hai\")"
   ]
  }
 ],
 "metadata": {
  "kernelspec": {
   "display_name": "Python 3",
   "language": "python",
   "name": "python3"
  },
  "language_info": {
   "codemirror_mode": {
    "name": "ipython",
    "version": 3
   },
   "file_extension": ".py",
   "mimetype": "text/x-python",
   "name": "python",
   "nbconvert_exporter": "python",
   "pygments_lexer": "ipython3",
   "version": "3.13.6"
  }
 },
 "nbformat": 4,
 "nbformat_minor": 5
}
